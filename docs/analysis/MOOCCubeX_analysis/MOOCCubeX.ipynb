{
 "cells": [
  {
   "cell_type": "markdown",
   "id": "36f54933",
   "metadata": {},
   "source": [
    " # MOOCCUBEX Data Analysis"
   ]
  },
  {
   "cell_type": "markdown",
   "id": "9fc1c223",
   "metadata": {},
   "source": [
    "|Field    |description                      |   \n",
    "|:----------|:----------                     |   \n",
    "|log_id   |ID of the user's question record, combined with a unique key of user_id and problem_id |\n",
    "|user_id |User ID, starting with U_|\n",
    "|problem_id\t|Problem ID, starting with Pm_|\n",
    "|is_correct\t|Is the question correct|\n",
    "|attempts\t|Number of attempted questions|\n",
    "|score\t|score|\n",
    "|submit_time\t|Question time|"
   ]
  },
  {
   "cell_type": "code",
   "execution_count": 1,
   "id": "37a45801",
   "metadata": {},
   "outputs": [],
   "source": [
    "import numpy as np\n",
    "import pandas as pd\n",
    "import re\n",
    "import plotly.express as px\n",
    "from plotly.subplots import make_subplots\n",
    "import plotly.graph_objs as go"
   ]
  },
  {
   "cell_type": "code",
   "execution_count": 2,
   "id": "a79a09f8",
   "metadata": {},
   "outputs": [],
   "source": [
    "path = \"user-problem.csv\"\n",
    "data = pd.read_csv(path,encoding = \"utf-8\",low_memory=False,iterator=True)"
   ]
  },
  {
   "cell_type": "code",
   "execution_count": 3,
   "id": "85112a66",
   "metadata": {},
   "outputs": [
    {
     "name": "stdout",
     "output_type": "stream",
     "text": [
      "Iteration is stopped\n"
     ]
    }
   ],
   "source": [
    "loop=True\n",
    "chunksize = 10000000\n",
    "chunks =[]\n",
    "while loop :\n",
    "    try :\n",
    "        chunk=data.get_chunk(chunksize)\n",
    "        chunks.append(chunk)\n",
    "    except StopIteration:\n",
    "        loop=False\n",
    "        print(\"Iteration is stopped\")\n",
    "df=pd.concat(chunks,ignore_index=True)"
   ]
  },
  {
   "cell_type": "code",
   "execution_count": 4,
   "id": "3412bec3",
   "metadata": {},
   "outputs": [
    {
     "data": {
      "text/html": [
       "<div>\n",
       "<style scoped>\n",
       "    .dataframe tbody tr th:only-of-type {\n",
       "        vertical-align: middle;\n",
       "    }\n",
       "\n",
       "    .dataframe tbody tr th {\n",
       "        vertical-align: top;\n",
       "    }\n",
       "\n",
       "    .dataframe thead th {\n",
       "        text-align: right;\n",
       "    }\n",
       "</style>\n",
       "<table border=\"1\" class=\"dataframe\">\n",
       "  <thead>\n",
       "    <tr style=\"text-align: right;\">\n",
       "      <th></th>\n",
       "      <th>log_id</th>\n",
       "      <th>problem_id</th>\n",
       "      <th>user_id</th>\n",
       "      <th>is_correct</th>\n",
       "      <th>attempts</th>\n",
       "      <th>score</th>\n",
       "      <th>submit_time</th>\n",
       "    </tr>\n",
       "  </thead>\n",
       "  <tbody>\n",
       "    <tr>\n",
       "      <th>0</th>\n",
       "      <td>10000_6906522</td>\n",
       "      <td>Pm_6906522</td>\n",
       "      <td>U_10000</td>\n",
       "      <td>0</td>\n",
       "      <td>1</td>\n",
       "      <td>NaN</td>\n",
       "      <td>2020-10-27101156</td>\n",
       "    </tr>\n",
       "    <tr>\n",
       "      <th>1</th>\n",
       "      <td>10000_6906523</td>\n",
       "      <td>Pm_6906523</td>\n",
       "      <td>U_10000</td>\n",
       "      <td>0</td>\n",
       "      <td>1</td>\n",
       "      <td>NaN</td>\n",
       "      <td>2020-10-27101213</td>\n",
       "    </tr>\n",
       "    <tr>\n",
       "      <th>2</th>\n",
       "      <td>10000_6906524</td>\n",
       "      <td>Pm_6906524</td>\n",
       "      <td>U_10000</td>\n",
       "      <td>1</td>\n",
       "      <td>1</td>\n",
       "      <td>NaN</td>\n",
       "      <td>2020-10-27101228</td>\n",
       "    </tr>\n",
       "    <tr>\n",
       "      <th>3</th>\n",
       "      <td>10000_6906525</td>\n",
       "      <td>Pm_6906525</td>\n",
       "      <td>U_10000</td>\n",
       "      <td>0</td>\n",
       "      <td>1</td>\n",
       "      <td>NaN</td>\n",
       "      <td>2020-10-27101456</td>\n",
       "    </tr>\n",
       "    <tr>\n",
       "      <th>4</th>\n",
       "      <td>10000_6906526</td>\n",
       "      <td>Pm_6906526</td>\n",
       "      <td>U_10000</td>\n",
       "      <td>0</td>\n",
       "      <td>1</td>\n",
       "      <td>NaN</td>\n",
       "      <td>2020-10-27101518</td>\n",
       "    </tr>\n",
       "  </tbody>\n",
       "</table>\n",
       "</div>"
      ],
      "text/plain": [
       "          log_id  problem_id  user_id  is_correct  attempts  score  \\\n",
       "0  10000_6906522  Pm_6906522  U_10000           0         1    NaN   \n",
       "1  10000_6906523  Pm_6906523  U_10000           0         1    NaN   \n",
       "2  10000_6906524  Pm_6906524  U_10000           1         1    NaN   \n",
       "3  10000_6906525  Pm_6906525  U_10000           0         1    NaN   \n",
       "4  10000_6906526  Pm_6906526  U_10000           0         1    NaN   \n",
       "\n",
       "        submit_time  \n",
       "0  2020-10-27101156  \n",
       "1  2020-10-27101213  \n",
       "2  2020-10-27101228  \n",
       "3  2020-10-27101456  \n",
       "4  2020-10-27101518  "
      ]
     },
     "execution_count": 4,
     "metadata": {},
     "output_type": "execute_result"
    }
   ],
   "source": [
    "df.head()"
   ]
  },
  {
   "cell_type": "markdown",
   "id": "77cf9b36",
   "metadata": {},
   "source": [
    "## general feature "
   ]
  },
  {
   "cell_type": "code",
   "execution_count": 5,
   "id": "8a352a50",
   "metadata": {},
   "outputs": [
    {
     "data": {
      "text/html": [
       "<div>\n",
       "<style scoped>\n",
       "    .dataframe tbody tr th:only-of-type {\n",
       "        vertical-align: middle;\n",
       "    }\n",
       "\n",
       "    .dataframe tbody tr th {\n",
       "        vertical-align: top;\n",
       "    }\n",
       "\n",
       "    .dataframe thead th {\n",
       "        text-align: right;\n",
       "    }\n",
       "</style>\n",
       "<table border=\"1\" class=\"dataframe\">\n",
       "  <thead>\n",
       "    <tr style=\"text-align: right;\">\n",
       "      <th></th>\n",
       "      <th>is_correct</th>\n",
       "      <th>attempts</th>\n",
       "      <th>score</th>\n",
       "    </tr>\n",
       "  </thead>\n",
       "  <tbody>\n",
       "    <tr>\n",
       "      <th>count</th>\n",
       "      <td>1.333843e+08</td>\n",
       "      <td>1.333843e+08</td>\n",
       "      <td>6.254807e+07</td>\n",
       "    </tr>\n",
       "    <tr>\n",
       "      <th>mean</th>\n",
       "      <td>8.613328e-01</td>\n",
       "      <td>1.058706e+00</td>\n",
       "      <td>1.159764e+00</td>\n",
       "    </tr>\n",
       "    <tr>\n",
       "      <th>std</th>\n",
       "      <td>3.455989e-01</td>\n",
       "      <td>4.070407e-01</td>\n",
       "      <td>1.596116e+00</td>\n",
       "    </tr>\n",
       "    <tr>\n",
       "      <th>min</th>\n",
       "      <td>0.000000e+00</td>\n",
       "      <td>1.000000e+00</td>\n",
       "      <td>-1.000000e+00</td>\n",
       "    </tr>\n",
       "    <tr>\n",
       "      <th>25%</th>\n",
       "      <td>1.000000e+00</td>\n",
       "      <td>1.000000e+00</td>\n",
       "      <td>1.000000e+00</td>\n",
       "    </tr>\n",
       "    <tr>\n",
       "      <th>50%</th>\n",
       "      <td>1.000000e+00</td>\n",
       "      <td>1.000000e+00</td>\n",
       "      <td>1.000000e+00</td>\n",
       "    </tr>\n",
       "    <tr>\n",
       "      <th>75%</th>\n",
       "      <td>1.000000e+00</td>\n",
       "      <td>1.000000e+00</td>\n",
       "      <td>1.000000e+00</td>\n",
       "    </tr>\n",
       "    <tr>\n",
       "      <th>max</th>\n",
       "      <td>1.000000e+00</td>\n",
       "      <td>4.580000e+02</td>\n",
       "      <td>1.000000e+02</td>\n",
       "    </tr>\n",
       "  </tbody>\n",
       "</table>\n",
       "</div>"
      ],
      "text/plain": [
       "         is_correct      attempts         score\n",
       "count  1.333843e+08  1.333843e+08  6.254807e+07\n",
       "mean   8.613328e-01  1.058706e+00  1.159764e+00\n",
       "std    3.455989e-01  4.070407e-01  1.596116e+00\n",
       "min    0.000000e+00  1.000000e+00 -1.000000e+00\n",
       "25%    1.000000e+00  1.000000e+00  1.000000e+00\n",
       "50%    1.000000e+00  1.000000e+00  1.000000e+00\n",
       "75%    1.000000e+00  1.000000e+00  1.000000e+00\n",
       "max    1.000000e+00  4.580000e+02  1.000000e+02"
      ]
     },
     "execution_count": 5,
     "metadata": {},
     "output_type": "execute_result"
    }
   ],
   "source": [
    "df.describe()"
   ]
  },
  {
   "cell_type": "code",
   "execution_count": 6,
   "id": "312bd565",
   "metadata": {},
   "outputs": [
    {
     "name": "stdout",
     "output_type": "stream",
     "text": [
      "the number of records:\n",
      "133384333\n"
     ]
    }
   ],
   "source": [
    "print(\"the number of records:\")\n",
    "print(df['log_id'].count())"
   ]
  },
  {
   "cell_type": "code",
   "execution_count": 7,
   "id": "36576d5b",
   "metadata": {},
   "outputs": [
    {
     "name": "stdout",
     "output_type": "stream",
     "text": [
      "Part of missing values for every column\n",
      "log_id         0.000000\n",
      "problem_id     0.000000\n",
      "user_id        0.000000\n",
      "is_correct     0.000000\n",
      "attempts       0.000000\n",
      "score          0.531069\n",
      "submit_time    0.000000\n",
      "dtype: float64\n"
     ]
    }
   ],
   "source": [
    "print('Part of missing values for every column')\n",
    "print(df.isnull().sum() / len(df))"
   ]
  },
  {
   "cell_type": "code",
   "execution_count": 8,
   "id": "6f057650",
   "metadata": {},
   "outputs": [
    {
     "name": "stdout",
     "output_type": "stream",
     "text": [
      "the number of users\n"
     ]
    },
    {
     "data": {
      "text/plain": [
       "1290530"
      ]
     },
     "execution_count": 8,
     "metadata": {},
     "output_type": "execute_result"
    }
   ],
   "source": [
    "print(\"the number of users\")\n",
    "len(df.user_id.unique())"
   ]
  },
  {
   "cell_type": "code",
   "execution_count": 9,
   "id": "f3dcbf7d",
   "metadata": {},
   "outputs": [
    {
     "name": "stdout",
     "output_type": "stream",
     "text": [
      "the number of  problems\n"
     ]
    },
    {
     "data": {
      "text/plain": [
       "1371695"
      ]
     },
     "execution_count": 9,
     "metadata": {},
     "output_type": "execute_result"
    }
   ],
   "source": [
    "print(\"the number of  problems\")\n",
    "len(df.problem_id.unique())"
   ]
  },
  {
   "cell_type": "markdown",
   "id": "07dab257",
   "metadata": {},
   "source": [
    "## sort by user_id"
   ]
  },
  {
   "cell_type": "code",
   "execution_count": 10,
   "id": "e1602c0d",
   "metadata": {},
   "outputs": [],
   "source": [
    "ds = df['user_id'].value_counts().reset_index() "
   ]
  },
  {
   "cell_type": "code",
   "execution_count": 11,
   "id": "76b2edd6",
   "metadata": {},
   "outputs": [],
   "source": [
    "ds.columns = [\n",
    "    'user_id',\n",
    "    'count'\n",
    "]"
   ]
  },
  {
   "cell_type": "code",
   "execution_count": 12,
   "id": "b203884f",
   "metadata": {},
   "outputs": [],
   "source": [
    "ds['user_id'] = ds['user_id'].astype(str) + '-' #将数据转成str类。否则纵坐标出错"
   ]
  },
  {
   "cell_type": "code",
   "execution_count": 13,
   "id": "36746ee5",
   "metadata": {},
   "outputs": [],
   "source": [
    "ds = ds.sort_values(['count']).tail(50)"
   ]
  },
  {
   "cell_type": "code",
   "execution_count": 14,
   "id": "677e924f",
   "metadata": {},
   "outputs": [],
   "source": [
    "fig = px.bar(\n",
    "    ds,\n",
    "    x = 'count',\n",
    "    y = 'user_id',\n",
    "    orientation='h',\n",
    "    title='Top 50 users by the number of solving problem'\n",
    ")"
   ]
  },
  {
   "cell_type": "code",
   "execution_count": null,
   "id": "f4341df0",
   "metadata": {},
   "outputs": [],
   "source": [
    "fig.show()"
   ]
  },
  {
   "cell_type": "markdown",
   "id": "944aafcc",
   "metadata": {},
   "source": [
    "![title](.\\newplot(1).png)"
   ]
  },
  {
   "cell_type": "code",
   "execution_count": null,
   "id": "799da954",
   "metadata": {},
   "outputs": [],
   "source": [
    "ds = df['user_id'].value_counts().reset_index() "
   ]
  },
  {
   "cell_type": "code",
   "execution_count": 17,
   "id": "acf85353",
   "metadata": {},
   "outputs": [],
   "source": [
    "ds.columns = [\n",
    "    'user_id',\n",
    "    'count'\n",
    "]"
   ]
  },
  {
   "cell_type": "code",
   "execution_count": 18,
   "id": "50a52ed4",
   "metadata": {},
   "outputs": [],
   "source": [
    "ds= ds.astype(str)\n",
    "ds = ds.applymap(lambda x: re.sub(r'U_','', x))\n",
    "ds = ds.astype(int)\n",
    "ds = ds.sort_values('user_id')"
   ]
  },
  {
   "cell_type": "code",
   "execution_count": 19,
   "id": "f9afb4d5",
   "metadata": {},
   "outputs": [],
   "source": [
    "fig = px.histogram(\n",
    "    ds,\n",
    "    x = 'user_id',\n",
    "    y = 'count',\n",
    "    title = 'User solving problem distribution'\n",
    ")"
   ]
  },
  {
   "cell_type": "code",
   "execution_count": null,
   "id": "7bbe6efa",
   "metadata": {},
   "outputs": [],
   "source": [
    "fig.show()"
   ]
  },
  {
   "cell_type": "markdown",
   "id": "0622bb95",
   "metadata": {},
   "source": [
    "![title](.\\newplot(2).png)"
   ]
  },
  {
   "cell_type": "markdown",
   "id": "b3138ea9",
   "metadata": {},
   "source": [
    "## Sort by correct answer"
   ]
  },
  {
   "cell_type": "code",
   "execution_count": 21,
   "id": "58ef6f6d",
   "metadata": {},
   "outputs": [],
   "source": [
    "ds = df['is_correct'].value_counts().reset_index()"
   ]
  },
  {
   "cell_type": "code",
   "execution_count": null,
   "id": "35cd2761",
   "metadata": {},
   "outputs": [],
   "source": [
    "ds.columns = [\n",
    "    'is_correct',\n",
    "    'percent'\n",
    "]\n",
    "ds['percent'] /= len(df)\n",
    "ds = ds.sort_values(['percent'])\n",
    "fig = px.pie(\n",
    "    ds,\n",
    "    names = ['0', '1'],\n",
    "    values = 'percent',\n",
    "    title = 'Percent of the record that user solve the problem correctly '    \n",
    ")"
   ]
  },
  {
   "cell_type": "code",
   "execution_count": null,
   "id": "80f39aff",
   "metadata": {},
   "outputs": [],
   "source": [
    "fig.show()"
   ]
  },
  {
   "cell_type": "markdown",
   "id": "cab53918",
   "metadata": {},
   "source": [
    "![title](.\\newplot(3).png)"
   ]
  },
  {
   "cell_type": "markdown",
   "id": "120d707a",
   "metadata": {},
   "source": [
    "## Sorted by submit_time"
   ]
  },
  {
   "cell_type": "code",
   "execution_count": 4,
   "id": "a53fe1e3",
   "metadata": {},
   "outputs": [],
   "source": [
    "ds=df['submit_time']"
   ]
  },
  {
   "cell_type": "code",
   "execution_count": 6,
   "id": "ee7ae99a",
   "metadata": {
    "scrolled": true
   },
   "outputs": [],
   "source": [
    "ds=pd.DataFrame(ds)"
   ]
  },
  {
   "cell_type": "code",
   "execution_count": 7,
   "id": "7f2e4ee2",
   "metadata": {},
   "outputs": [],
   "source": [
    "ds = ds.applymap(lambda x: re.sub(r'-[0-9]{8}','', x))"
   ]
  },
  {
   "cell_type": "code",
   "execution_count": 8,
   "id": "4aaf86ed",
   "metadata": {},
   "outputs": [],
   "source": [
    "ds = ds.sort_values(['submit_time'])"
   ]
  },
  {
   "cell_type": "code",
   "execution_count": 9,
   "id": "fb3595a2",
   "metadata": {},
   "outputs": [],
   "source": [
    "ds = ds['submit_time'].value_counts().reset_index()"
   ]
  },
  {
   "cell_type": "code",
   "execution_count": 13,
   "id": "422893cd",
   "metadata": {},
   "outputs": [],
   "source": [
    "ds.columns=[\n",
    "    'submit_time',\n",
    "    'count'\n",
    "]"
   ]
  },
  {
   "cell_type": "code",
   "execution_count": 14,
   "id": "8e918012",
   "metadata": {},
   "outputs": [],
   "source": [
    "fig = px.bar(\n",
    "    ds,\n",
    "    x = 'submit_time',\n",
    "    y = 'count',\n",
    "    title = 'User solving problem date distribution'\n",
    ")"
   ]
  },
  {
   "cell_type": "code",
   "execution_count": null,
   "id": "920ca5a4",
   "metadata": {},
   "outputs": [],
   "source": [
    "fig.show()"
   ]
  },
  {
   "cell_type": "markdown",
   "id": "7b7afecf",
   "metadata": {},
   "source": [
    "![title](.\\newplot(4).png)"
   ]
  },
  {
   "cell_type": "markdown",
   "id": "e717fbfd",
   "metadata": {},
   "source": [
    "## Sorted by attempts"
   ]
  },
  {
   "cell_type": "code",
   "execution_count": 16,
   "id": "4b0a27e8",
   "metadata": {},
   "outputs": [],
   "source": [
    "grouped=df.groupby(by=['problem_id'],as_index=False)"
   ]
  },
  {
   "cell_type": "code",
   "execution_count": 17,
   "id": "f73623df",
   "metadata": {},
   "outputs": [],
   "source": [
    "series=grouped['attempts'].mean()"
   ]
  },
  {
   "cell_type": "code",
   "execution_count": 18,
   "id": "495ce3c9",
   "metadata": {},
   "outputs": [],
   "source": [
    "series = series.sort_values(['attempts']).tail(50)"
   ]
  },
  {
   "cell_type": "code",
   "execution_count": 19,
   "id": "ae520d85",
   "metadata": {},
   "outputs": [],
   "source": [
    "fig = px.bar(\n",
    "    series,\n",
    "    x = 'attempts',\n",
    "    y = 'problem_id',\n",
    "    orientation='h',\n",
    "    title='Top 50 problems with the highest average number of attempts'\n",
    ")"
   ]
  },
  {
   "cell_type": "code",
   "execution_count": null,
   "id": "50b1daed",
   "metadata": {},
   "outputs": [],
   "source": [
    "fig.show()"
   ]
  },
  {
   "cell_type": "markdown",
   "id": "fc160732",
   "metadata": {},
   "source": [
    "![title](.\\newplot(5).png)"
   ]
  },
  {
   "cell_type": "markdown",
   "id": "81428311",
   "metadata": {},
   "source": [
    "## sorted by problem_id"
   ]
  },
  {
   "cell_type": "code",
   "execution_count": 21,
   "id": "df74434d",
   "metadata": {},
   "outputs": [],
   "source": [
    "ds = df['problem_id'].value_counts().reset_index()"
   ]
  },
  {
   "cell_type": "code",
   "execution_count": 22,
   "id": "0be37872",
   "metadata": {},
   "outputs": [],
   "source": [
    "ds.columns = [\n",
    "    'problem_id', \n",
    "    'count'\n",
    "]"
   ]
  },
  {
   "cell_type": "code",
   "execution_count": 23,
   "id": "4d428a65",
   "metadata": {},
   "outputs": [],
   "source": [
    "ds = ds.sort_values('problem_id')"
   ]
  },
  {
   "cell_type": "code",
   "execution_count": 24,
   "id": "2608b31b",
   "metadata": {},
   "outputs": [],
   "source": [
    "ds= ds.astype(str)\n",
    "ds = ds.applymap(lambda x: re.sub(r'Pm_','', x))\n",
    "ds = ds.astype(int)"
   ]
  },
  {
   "cell_type": "code",
   "execution_count": 25,
   "id": "3c106870",
   "metadata": {},
   "outputs": [],
   "source": [
    "fig = px.histogram(\n",
    "    ds, \n",
    "    x='problem_id', \n",
    "    y='count', \n",
    "    title=\"records'distribution on problem_id\"\n",
    ")"
   ]
  },
  {
   "cell_type": "code",
   "execution_count": null,
   "id": "5e33da7b",
   "metadata": {},
   "outputs": [],
   "source": [
    "fig.show()"
   ]
  },
  {
   "cell_type": "markdown",
   "id": "0261f3e8",
   "metadata": {},
   "source": [
    "![title](.\\newplot(6).png)"
   ]
  },
  {
   "cell_type": "markdown",
   "id": "0bff5ed9",
   "metadata": {},
   "source": [
    "## sorted by score"
   ]
  },
  {
   "cell_type": "code",
   "execution_count": 27,
   "id": "2d72da44",
   "metadata": {},
   "outputs": [],
   "source": [
    "grouped=df.groupby(by=['user_id'],as_index=False)"
   ]
  },
  {
   "cell_type": "code",
   "execution_count": 28,
   "id": "d0b54395",
   "metadata": {},
   "outputs": [],
   "source": [
    "series=grouped['score'].mean()"
   ]
  },
  {
   "cell_type": "code",
   "execution_count": 29,
   "id": "0b2f8d20",
   "metadata": {},
   "outputs": [],
   "source": [
    "ds=series['score'].value_counts().reset_index()"
   ]
  },
  {
   "cell_type": "code",
   "execution_count": 30,
   "id": "c436fb0d",
   "metadata": {},
   "outputs": [],
   "source": [
    "ds.columns=[\n",
    "    'avg_score',\n",
    "    'count'\n",
    "]"
   ]
  },
  {
   "cell_type": "code",
   "execution_count": 31,
   "id": "144c4700",
   "metadata": {},
   "outputs": [],
   "source": [
    "ds=ds.sort_values(['avg_score'])"
   ]
  },
  {
   "cell_type": "code",
   "execution_count": 32,
   "id": "1ef5d9a5",
   "metadata": {},
   "outputs": [],
   "source": [
    "fig = px.histogram(\n",
    "    ds, \n",
    "    x='avg_score', \n",
    "    y='count', \n",
    "    title='average score distribution'\n",
    ")"
   ]
  },
  {
   "cell_type": "code",
   "execution_count": null,
   "id": "d3ba0c58",
   "metadata": {},
   "outputs": [],
   "source": [
    "fig.show()"
   ]
  },
  {
   "cell_type": "markdown",
   "id": "ebca4e37",
   "metadata": {},
   "source": [
    "![title](.\\newplot(7).png)"
   ]
  },
  {
   "cell_type": "code",
   "execution_count": 34,
   "id": "797e033c",
   "metadata": {},
   "outputs": [],
   "source": [
    "grouped=df.groupby(by=['problem_id'],as_index=False)"
   ]
  },
  {
   "cell_type": "code",
   "execution_count": 35,
   "id": "8554638a",
   "metadata": {},
   "outputs": [],
   "source": [
    "series=grouped['score'].mean()\n",
    "series=series.dropna(axis=0,how='any')"
   ]
  },
  {
   "cell_type": "code",
   "execution_count": 36,
   "id": "4c850207",
   "metadata": {},
   "outputs": [],
   "source": [
    "series.columns=[\n",
    "    'problem_id',\n",
    "    'avg_score'\n",
    "]"
   ]
  },
  {
   "cell_type": "code",
   "execution_count": 37,
   "id": "377d934e",
   "metadata": {},
   "outputs": [],
   "source": [
    "series=series.sort_values(['avg_score']).tail(50)"
   ]
  },
  {
   "cell_type": "code",
   "execution_count": 38,
   "id": "9e0b8398",
   "metadata": {},
   "outputs": [],
   "source": [
    "fig = px.bar(\n",
    "    series,\n",
    "    x = 'avg_score',\n",
    "    y = 'problem_id',\n",
    "    orientation='h',\n",
    "    title='Top 50 problems that have a high score'\n",
    ")"
   ]
  },
  {
   "cell_type": "code",
   "execution_count": null,
   "id": "1bab1e09",
   "metadata": {},
   "outputs": [],
   "source": [
    "fig.show()"
   ]
  },
  {
   "cell_type": "markdown",
   "id": "9d4a5aed",
   "metadata": {},
   "source": [
    "![title](.\\newplot(8).png)"
   ]
  },
  {
   "cell_type": "code",
   "execution_count": null,
   "id": "93c3e211",
   "metadata": {},
   "outputs": [],
   "source": []
  }
 ],
 "metadata": {
  "kernelspec": {
   "display_name": "Python 3 (ipykernel)",
   "language": "python",
   "name": "python3"
  },
  "language_info": {
   "codemirror_mode": {
    "name": "ipython",
    "version": 3
   },
   "file_extension": ".py",
   "mimetype": "text/x-python",
   "name": "python",
   "nbconvert_exporter": "python",
   "pygments_lexer": "ipython3",
   "version": "3.10.9"
  }
 },
 "nbformat": 4,
 "nbformat_minor": 5
}
